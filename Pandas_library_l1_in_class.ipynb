{
  "nbformat": 4,
  "nbformat_minor": 0,
  "metadata": {
    "colab": {
      "provenance": [],
      "mount_file_id": "1f0jOWgDjL4g84wKMmDLbywPg_O13lHcu",
      "authorship_tag": "ABX9TyMb7sbyrgd6rgBmhN/e1Pvz",
      "include_colab_link": true
    },
    "kernelspec": {
      "name": "python3",
      "display_name": "Python 3"
    },
    "language_info": {
      "name": "python"
    }
  },
  "cells": [
    {
      "cell_type": "markdown",
      "metadata": {
        "id": "view-in-github",
        "colab_type": "text"
      },
      "source": [
        "<a href=\"https://colab.research.google.com/github/nileshmalode11/Pandas_Library_practice/blob/main/Pandas_library_l1_in_class.ipynb\" target=\"_parent\"><img src=\"https://colab.research.google.com/assets/colab-badge.svg\" alt=\"Open In Colab\"/></a>"
      ]
    },
    {
      "cell_type": "markdown",
      "source": [
        "#pandas \n",
        "Pandas is a Python library used for working with data sets.\n",
        "\n",
        "It has functions for analyzing, cleaning, exploring, and manipulating data.\n",
        "\n",
        "The name \"Pandas\" has a reference to both \"Panel Data\", and \"Python Data Analysis\" and was created by Wes McKinney in 2008."
      ],
      "metadata": {
        "id": "54Nbn6UKY9ae"
      }
    },
    {
      "cell_type": "markdown",
      "source": [
        "#why use pandas\n",
        "Pandas allows us to analyze big data and make conclusions based on statistical theories.\n",
        "\n",
        "Pandas can clean messy data sets, and make them readable and relevant.\n",
        "\n",
        "Relevant data is very important in data science."
      ],
      "metadata": {
        "id": "escfig7nZpIU"
      }
    },
    {
      "cell_type": "markdown",
      "source": [
        "###***pandas provide two data structure.***\n",
        "###1. series\n",
        "###2. DataFrame"
      ],
      "metadata": {
        "id": "7frghke2Z4SL"
      }
    },
    {
      "cell_type": "markdown",
      "source": [
        "1.**series**\n",
        "\n",
        "pandas series is an one diamentional lebelled array capable of holdind data of any type(int, string, float,python object, etc.)"
      ],
      "metadata": {
        "id": "kzY14ktsaOfT"
      }
    },
    {
      "cell_type": "code",
      "execution_count": null,
      "metadata": {
        "id": "3y-q7cXqTTe7",
        "colab": {
          "base_uri": "https://localhost:8080/"
        },
        "outputId": "00b2d3ad-39c1-4e45-cde9-8bc8245dea65"
      },
      "outputs": [
        {
          "output_type": "stream",
          "name": "stdout",
          "text": [
            "Series([], dtype: float64)\n",
            "0    1\n",
            "1    2\n",
            "2    3\n",
            "3    4\n",
            "4    5\n",
            "5    6\n",
            "6    8\n",
            "dtype: int64\n"
          ]
        },
        {
          "output_type": "stream",
          "name": "stderr",
          "text": [
            "<ipython-input-1-d5ce0e5635b7>:6: DeprecationWarning: The default dtype for empty Series will be 'object' instead of 'float64' in a future version. Specify a dtype explicitly to silence this warning.\n",
            "  ser = pd.Series()\n"
          ]
        }
      ],
      "source": [
        "#pandas series eaxample 1\n",
        "#import pandas\n",
        "import pandas as pd\n",
        "import numpy as np\n",
        "\n",
        "ser = pd.Series()\n",
        "print(ser)\n",
        "\n",
        "data=np.array([1,2,3,4,5,6,8])\n",
        "\n",
        "ser=pd.Series(data)\n",
        "\n",
        "print(ser)"
      ]
    },
    {
      "cell_type": "code",
      "source": [
        "#pandas series eaxample 2\n",
        "#craete np array\n",
        "friuts=np.array([\"banana\",\"apple\",\"orange\",\"mango\",\"pear\"])\n",
        "#store array in pd sereis\n",
        "ser2=pd.Series(friuts)\n",
        "#display\n",
        "print(ser2)"
      ],
      "metadata": {
        "id": "xdPK3UrcTiTz"
      },
      "execution_count": null,
      "outputs": []
    },
    {
      "cell_type": "markdown",
      "source": [
        "**Dataframe**\n",
        "\n",
        "pandas DataFrame is two diamensional size mutaable, potentially hetrogeneous tabular datastructure with leblled axes (rows and column)."
      ],
      "metadata": {
        "id": "cgErA7Tvba0Z"
      }
    },
    {
      "cell_type": "code",
      "source": [
        "#pandas Dataframe\n",
        "#create a dataframe\n",
        "import pandas as pd\n",
        "df = pd.DataFrame({\n",
        "    \"column1\":[1,2,4,6,7],\n",
        "    \"column2\":[\"a\",\"column\",\"with\",\"a\",\"string\"],\n",
        "    \"column3\":[1.23,3.45,4.54,5.65,6.78],\n",
        "    \"column4\":[\"true\",\"false\",\"none\",\"True\",\"false\"]\n",
        "})\n",
        "print(df)"
      ],
      "metadata": {
        "id": "pS_s73TCW5Pu",
        "colab": {
          "base_uri": "https://localhost:8080/"
        },
        "outputId": "a03f3f7e-e910-4390-c258-a8705034be2e"
      },
      "execution_count": null,
      "outputs": [
        {
          "output_type": "stream",
          "name": "stdout",
          "text": [
            "   column1 column2  column3 column4\n",
            "0        1       a     1.23    true\n",
            "1        2  column     3.45   false\n",
            "2        4    with     4.54    none\n",
            "3        6       a     5.65    True\n",
            "4        7  string     6.78   false\n"
          ]
        }
      ]
    },
    {
      "cell_type": "code",
      "source": [
        "# importing pandas as pd\n",
        "import pandas as pd\n",
        "\n",
        "# dictionary of lists\n",
        "dict = {'name':[\"aparna\", \"pankaj\", \"sudhir\", \"Geeku\"],\n",
        "\t\t'degree': [\"MBA\", \"BCA\", \"M.Tech\", \"MBA\"],\n",
        "\t\t'score':[90, 40, 80, 98]}\n",
        "\n",
        "df = pd.DataFrame(dict)\n",
        "\n",
        "print(df)"
      ],
      "metadata": {
        "colab": {
          "base_uri": "https://localhost:8080/"
        },
        "id": "MJPAY1zfY6kw",
        "outputId": "62f38238-6665-4c46-e0c7-19d46980ec1a"
      },
      "execution_count": null,
      "outputs": [
        {
          "output_type": "stream",
          "name": "stdout",
          "text": [
            "     name  degree  score\n",
            "0  aparna     MBA     90\n",
            "1  pankaj     BCA     40\n",
            "2  sudhir  M.Tech     80\n",
            "3   Geeku     MBA     98\n"
          ]
        }
      ]
    },
    {
      "cell_type": "code",
      "source": [
        "# info function in pandas shows information in DataFrame\n",
        "df.info()"
      ],
      "metadata": {
        "colab": {
          "base_uri": "https://localhost:8080/"
        },
        "id": "R_gght99bSWo",
        "outputId": "9e58f8ef-fd46-40ff-d510-f89959b958de"
      },
      "execution_count": null,
      "outputs": [
        {
          "output_type": "stream",
          "name": "stdout",
          "text": [
            "<class 'pandas.core.frame.DataFrame'>\n",
            "RangeIndex: 4 entries, 0 to 3\n",
            "Data columns (total 3 columns):\n",
            " #   Column  Non-Null Count  Dtype \n",
            "---  ------  --------------  ----- \n",
            " 0   name    4 non-null      object\n",
            " 1   degree  4 non-null      object\n",
            " 2   score   4 non-null      int64 \n",
            "dtypes: int64(1), object(2)\n",
            "memory usage: 224.0+ bytes\n"
          ]
        }
      ]
    },
    {
      "cell_type": "code",
      "source": [
        "# describe function in pandas \n",
        "df.describe()"
      ],
      "metadata": {
        "colab": {
          "base_uri": "https://localhost:8080/",
          "height": 300
        },
        "id": "2wf2x8sTgG4O",
        "outputId": "41b384c5-b7f1-4c51-85b0-03c0c06f13a3"
      },
      "execution_count": null,
      "outputs": [
        {
          "output_type": "execute_result",
          "data": {
            "text/plain": [
              "           score\n",
              "count   4.000000\n",
              "mean   77.000000\n",
              "std    25.742313\n",
              "min    40.000000\n",
              "25%    70.000000\n",
              "50%    85.000000\n",
              "75%    92.000000\n",
              "max    98.000000"
            ],
            "text/html": [
              "\n",
              "  <div id=\"df-6901143a-6a5c-4da4-85e9-ba85c43f2c5f\">\n",
              "    <div class=\"colab-df-container\">\n",
              "      <div>\n",
              "<style scoped>\n",
              "    .dataframe tbody tr th:only-of-type {\n",
              "        vertical-align: middle;\n",
              "    }\n",
              "\n",
              "    .dataframe tbody tr th {\n",
              "        vertical-align: top;\n",
              "    }\n",
              "\n",
              "    .dataframe thead th {\n",
              "        text-align: right;\n",
              "    }\n",
              "</style>\n",
              "<table border=\"1\" class=\"dataframe\">\n",
              "  <thead>\n",
              "    <tr style=\"text-align: right;\">\n",
              "      <th></th>\n",
              "      <th>score</th>\n",
              "    </tr>\n",
              "  </thead>\n",
              "  <tbody>\n",
              "    <tr>\n",
              "      <th>count</th>\n",
              "      <td>4.000000</td>\n",
              "    </tr>\n",
              "    <tr>\n",
              "      <th>mean</th>\n",
              "      <td>77.000000</td>\n",
              "    </tr>\n",
              "    <tr>\n",
              "      <th>std</th>\n",
              "      <td>25.742313</td>\n",
              "    </tr>\n",
              "    <tr>\n",
              "      <th>min</th>\n",
              "      <td>40.000000</td>\n",
              "    </tr>\n",
              "    <tr>\n",
              "      <th>25%</th>\n",
              "      <td>70.000000</td>\n",
              "    </tr>\n",
              "    <tr>\n",
              "      <th>50%</th>\n",
              "      <td>85.000000</td>\n",
              "    </tr>\n",
              "    <tr>\n",
              "      <th>75%</th>\n",
              "      <td>92.000000</td>\n",
              "    </tr>\n",
              "    <tr>\n",
              "      <th>max</th>\n",
              "      <td>98.000000</td>\n",
              "    </tr>\n",
              "  </tbody>\n",
              "</table>\n",
              "</div>\n",
              "      <button class=\"colab-df-convert\" onclick=\"convertToInteractive('df-6901143a-6a5c-4da4-85e9-ba85c43f2c5f')\"\n",
              "              title=\"Convert this dataframe to an interactive table.\"\n",
              "              style=\"display:none;\">\n",
              "        \n",
              "  <svg xmlns=\"http://www.w3.org/2000/svg\" height=\"24px\"viewBox=\"0 0 24 24\"\n",
              "       width=\"24px\">\n",
              "    <path d=\"M0 0h24v24H0V0z\" fill=\"none\"/>\n",
              "    <path d=\"M18.56 5.44l.94 2.06.94-2.06 2.06-.94-2.06-.94-.94-2.06-.94 2.06-2.06.94zm-11 1L8.5 8.5l.94-2.06 2.06-.94-2.06-.94L8.5 2.5l-.94 2.06-2.06.94zm10 10l.94 2.06.94-2.06 2.06-.94-2.06-.94-.94-2.06-.94 2.06-2.06.94z\"/><path d=\"M17.41 7.96l-1.37-1.37c-.4-.4-.92-.59-1.43-.59-.52 0-1.04.2-1.43.59L10.3 9.45l-7.72 7.72c-.78.78-.78 2.05 0 2.83L4 21.41c.39.39.9.59 1.41.59.51 0 1.02-.2 1.41-.59l7.78-7.78 2.81-2.81c.8-.78.8-2.07 0-2.86zM5.41 20L4 18.59l7.72-7.72 1.47 1.35L5.41 20z\"/>\n",
              "  </svg>\n",
              "      </button>\n",
              "      \n",
              "  <style>\n",
              "    .colab-df-container {\n",
              "      display:flex;\n",
              "      flex-wrap:wrap;\n",
              "      gap: 12px;\n",
              "    }\n",
              "\n",
              "    .colab-df-convert {\n",
              "      background-color: #E8F0FE;\n",
              "      border: none;\n",
              "      border-radius: 50%;\n",
              "      cursor: pointer;\n",
              "      display: none;\n",
              "      fill: #1967D2;\n",
              "      height: 32px;\n",
              "      padding: 0 0 0 0;\n",
              "      width: 32px;\n",
              "    }\n",
              "\n",
              "    .colab-df-convert:hover {\n",
              "      background-color: #E2EBFA;\n",
              "      box-shadow: 0px 1px 2px rgba(60, 64, 67, 0.3), 0px 1px 3px 1px rgba(60, 64, 67, 0.15);\n",
              "      fill: #174EA6;\n",
              "    }\n",
              "\n",
              "    [theme=dark] .colab-df-convert {\n",
              "      background-color: #3B4455;\n",
              "      fill: #D2E3FC;\n",
              "    }\n",
              "\n",
              "    [theme=dark] .colab-df-convert:hover {\n",
              "      background-color: #434B5C;\n",
              "      box-shadow: 0px 1px 3px 1px rgba(0, 0, 0, 0.15);\n",
              "      filter: drop-shadow(0px 1px 2px rgba(0, 0, 0, 0.3));\n",
              "      fill: #FFFFFF;\n",
              "    }\n",
              "  </style>\n",
              "\n",
              "      <script>\n",
              "        const buttonEl =\n",
              "          document.querySelector('#df-6901143a-6a5c-4da4-85e9-ba85c43f2c5f button.colab-df-convert');\n",
              "        buttonEl.style.display =\n",
              "          google.colab.kernel.accessAllowed ? 'block' : 'none';\n",
              "\n",
              "        async function convertToInteractive(key) {\n",
              "          const element = document.querySelector('#df-6901143a-6a5c-4da4-85e9-ba85c43f2c5f');\n",
              "          const dataTable =\n",
              "            await google.colab.kernel.invokeFunction('convertToInteractive',\n",
              "                                                     [key], {});\n",
              "          if (!dataTable) return;\n",
              "\n",
              "          const docLinkHtml = 'Like what you see? Visit the ' +\n",
              "            '<a target=\"_blank\" href=https://colab.research.google.com/notebooks/data_table.ipynb>data table notebook</a>'\n",
              "            + ' to learn more about interactive tables.';\n",
              "          element.innerHTML = '';\n",
              "          dataTable['output_type'] = 'display_data';\n",
              "          await google.colab.output.renderOutput(dataTable, element);\n",
              "          const docLink = document.createElement('div');\n",
              "          docLink.innerHTML = docLinkHtml;\n",
              "          element.appendChild(docLink);\n",
              "        }\n",
              "      </script>\n",
              "    </div>\n",
              "  </div>\n",
              "  "
            ]
          },
          "metadata": {},
          "execution_count": 15
        }
      ]
    },
    {
      "cell_type": "markdown",
      "source": [
        "##Dealing with rows and column in DataFrame"
      ],
      "metadata": {
        "id": "bmeG0-4SvA3P"
      }
    },
    {
      "cell_type": "code",
      "source": [
        "# Import pandas package\n",
        "import pandas as pd\n",
        "\n",
        "# Define a dictionary containing employee data\n",
        "data = {'Name':['Jai', 'Princi', 'Gaurav', 'Anuj'],\n",
        "\t\t'Age':[27, 24, 22, 32],\n",
        "\t\t'Address':['Delhi', 'Kanpur', 'Allahabad', 'Kannauj'],\n",
        "\t\t'Qualification':['Msc', 'MA', 'MCA', 'Phd']}\n",
        "\n",
        "# Convert the dictionary into DataFrame\n",
        "df = pd.DataFrame(data)\n",
        "print(df)\n",
        "print(\"\\n\\n\")\n",
        "\n",
        "# select two columns\n",
        "print(df[['Name', 'Qualification']])"
      ],
      "metadata": {
        "id": "k_yik7M6Bcx8",
        "colab": {
          "base_uri": "https://localhost:8080/"
        },
        "outputId": "71f8aa63-19de-40ad-da43-15f4392702c1"
      },
      "execution_count": null,
      "outputs": [
        {
          "output_type": "stream",
          "name": "stdout",
          "text": [
            "     Name  Age    Address Qualification\n",
            "0     Jai   27      Delhi           Msc\n",
            "1  Princi   24     Kanpur            MA\n",
            "2  Gaurav   22  Allahabad           MCA\n",
            "3    Anuj   32    Kannauj           Phd\n",
            "\n",
            "\n",
            "\n",
            "     Name Qualification\n",
            "0     Jai           Msc\n",
            "1  Princi            MA\n",
            "2  Gaurav           MCA\n",
            "3    Anuj           Phd\n"
          ]
        }
      ]
    },
    {
      "cell_type": "code",
      "source": [
        "print(df[[\"Name\",\"Address\",'Age']])"
      ],
      "metadata": {
        "colab": {
          "base_uri": "https://localhost:8080/"
        },
        "id": "bEMY9QMOvxyO",
        "outputId": "31afb298-4d41-471d-ef6a-9e9f62c79e02"
      },
      "execution_count": null,
      "outputs": [
        {
          "output_type": "stream",
          "name": "stdout",
          "text": [
            "     Name    Address  Age\n",
            "0     Jai      Delhi   27\n",
            "1  Princi     Kanpur   24\n",
            "2  Gaurav  Allahabad   22\n",
            "3    Anuj    Kannauj   32\n"
          ]
        }
      ]
    },
    {
      "cell_type": "markdown",
      "source": [
        "###Column Addition in DataFrame:\n",
        "In Order to add a column in Pandas DataFrame, we can declare a new list as a column and add to a existing Dataframe."
      ],
      "metadata": {
        "id": "Us5xTrShy3L-"
      }
    },
    {
      "cell_type": "code",
      "source": [
        "mo_no=[913063535,7227663631,8766834433,9130352387]\n",
        "df[\"Mo NO\"]=mo_no\n",
        "print(df)"
      ],
      "metadata": {
        "colab": {
          "base_uri": "https://localhost:8080/"
        },
        "id": "c1zuKDwKzI4G",
        "outputId": "7bd7268d-5c95-4768-9ac3-2a546acfbff7"
      },
      "execution_count": null,
      "outputs": [
        {
          "output_type": "stream",
          "name": "stdout",
          "text": [
            "     Name  Age    Address Qualification       Mo NO\n",
            "0     Jai   27      Delhi           Msc   913063535\n",
            "1  Princi   24     Kanpur            MA  7227663631\n",
            "2  Gaurav   22  Allahabad           MCA  8766834433\n",
            "3    Anuj   32    Kannauj           Phd  9130352387\n"
          ]
        }
      ]
    },
    {
      "cell_type": "markdown",
      "source": [
        "###Column Deletion:\n",
        "In Order to delete a column in Pandas DataFrame, we can use the drop() method. Columns is deleted by dropping columns with column names."
      ],
      "metadata": {
        "id": "I03T6EdY0BSb"
      }
    },
    {
      "cell_type": "code",
      "source": [
        "df.drop(['Age'],axis=1,inplace=True)\n",
        "print(df)"
      ],
      "metadata": {
        "colab": {
          "base_uri": "https://localhost:8080/"
        },
        "id": "ox7JtZjs1ZH-",
        "outputId": "9ee3dd87-34b8-4b67-ca3a-90d9e9b840d7"
      },
      "execution_count": null,
      "outputs": [
        {
          "output_type": "stream",
          "name": "stdout",
          "text": [
            "     Name    Address Qualification\n",
            "0     Jai      Delhi           Msc\n",
            "1  Princi     Kanpur            MA\n",
            "2  Gaurav  Allahabad           MCA\n",
            "3    Anuj    Kannauj           Phd\n"
          ]
        }
      ]
    },
    {
      "cell_type": "code",
      "source": [
        "import pandas as pd\n",
        "data=pd.read_csv(\"/content/sample_data/california_housing_test.csv\",index_col=\"longitude\")"
      ],
      "metadata": {
        "id": "2a0UJryC3ApP"
      },
      "execution_count": null,
      "outputs": []
    },
    {
      "cell_type": "code",
      "source": [
        "data.head()"
      ],
      "metadata": {
        "colab": {
          "base_uri": "https://localhost:8080/",
          "height": 302
        },
        "id": "JYXGU7jC3c9j",
        "outputId": "517ba2b8-a189-4741-8ce4-b0be496f157d"
      },
      "execution_count": null,
      "outputs": [
        {
          "output_type": "execute_result",
          "data": {
            "text/plain": [
              "           latitude  housing_median_age  total_rooms  total_bedrooms  \\\n",
              "longitude                                                              \n",
              "-122.05       37.37                27.0       3885.0           661.0   \n",
              "-118.30       34.26                43.0       1510.0           310.0   \n",
              "-117.81       33.78                27.0       3589.0           507.0   \n",
              "-118.36       33.82                28.0         67.0            15.0   \n",
              "-119.67       36.33                19.0       1241.0           244.0   \n",
              "\n",
              "           population  households  median_income  median_house_value  \n",
              "longitude                                                             \n",
              "-122.05        1537.0       606.0         6.6085            344700.0  \n",
              "-118.30         809.0       277.0         3.5990            176500.0  \n",
              "-117.81        1484.0       495.0         5.7934            270500.0  \n",
              "-118.36          49.0        11.0         6.1359            330000.0  \n",
              "-119.67         850.0       237.0         2.9375             81700.0  "
            ],
            "text/html": [
              "\n",
              "  <div id=\"df-99105eb1-5c9d-4794-b862-9397ee8d5e2a\">\n",
              "    <div class=\"colab-df-container\">\n",
              "      <div>\n",
              "<style scoped>\n",
              "    .dataframe tbody tr th:only-of-type {\n",
              "        vertical-align: middle;\n",
              "    }\n",
              "\n",
              "    .dataframe tbody tr th {\n",
              "        vertical-align: top;\n",
              "    }\n",
              "\n",
              "    .dataframe thead th {\n",
              "        text-align: right;\n",
              "    }\n",
              "</style>\n",
              "<table border=\"1\" class=\"dataframe\">\n",
              "  <thead>\n",
              "    <tr style=\"text-align: right;\">\n",
              "      <th></th>\n",
              "      <th>latitude</th>\n",
              "      <th>housing_median_age</th>\n",
              "      <th>total_rooms</th>\n",
              "      <th>total_bedrooms</th>\n",
              "      <th>population</th>\n",
              "      <th>households</th>\n",
              "      <th>median_income</th>\n",
              "      <th>median_house_value</th>\n",
              "    </tr>\n",
              "    <tr>\n",
              "      <th>longitude</th>\n",
              "      <th></th>\n",
              "      <th></th>\n",
              "      <th></th>\n",
              "      <th></th>\n",
              "      <th></th>\n",
              "      <th></th>\n",
              "      <th></th>\n",
              "      <th></th>\n",
              "    </tr>\n",
              "  </thead>\n",
              "  <tbody>\n",
              "    <tr>\n",
              "      <th>-122.05</th>\n",
              "      <td>37.37</td>\n",
              "      <td>27.0</td>\n",
              "      <td>3885.0</td>\n",
              "      <td>661.0</td>\n",
              "      <td>1537.0</td>\n",
              "      <td>606.0</td>\n",
              "      <td>6.6085</td>\n",
              "      <td>344700.0</td>\n",
              "    </tr>\n",
              "    <tr>\n",
              "      <th>-118.30</th>\n",
              "      <td>34.26</td>\n",
              "      <td>43.0</td>\n",
              "      <td>1510.0</td>\n",
              "      <td>310.0</td>\n",
              "      <td>809.0</td>\n",
              "      <td>277.0</td>\n",
              "      <td>3.5990</td>\n",
              "      <td>176500.0</td>\n",
              "    </tr>\n",
              "    <tr>\n",
              "      <th>-117.81</th>\n",
              "      <td>33.78</td>\n",
              "      <td>27.0</td>\n",
              "      <td>3589.0</td>\n",
              "      <td>507.0</td>\n",
              "      <td>1484.0</td>\n",
              "      <td>495.0</td>\n",
              "      <td>5.7934</td>\n",
              "      <td>270500.0</td>\n",
              "    </tr>\n",
              "    <tr>\n",
              "      <th>-118.36</th>\n",
              "      <td>33.82</td>\n",
              "      <td>28.0</td>\n",
              "      <td>67.0</td>\n",
              "      <td>15.0</td>\n",
              "      <td>49.0</td>\n",
              "      <td>11.0</td>\n",
              "      <td>6.1359</td>\n",
              "      <td>330000.0</td>\n",
              "    </tr>\n",
              "    <tr>\n",
              "      <th>-119.67</th>\n",
              "      <td>36.33</td>\n",
              "      <td>19.0</td>\n",
              "      <td>1241.0</td>\n",
              "      <td>244.0</td>\n",
              "      <td>850.0</td>\n",
              "      <td>237.0</td>\n",
              "      <td>2.9375</td>\n",
              "      <td>81700.0</td>\n",
              "    </tr>\n",
              "  </tbody>\n",
              "</table>\n",
              "</div>\n",
              "      <button class=\"colab-df-convert\" onclick=\"convertToInteractive('df-99105eb1-5c9d-4794-b862-9397ee8d5e2a')\"\n",
              "              title=\"Convert this dataframe to an interactive table.\"\n",
              "              style=\"display:none;\">\n",
              "        \n",
              "  <svg xmlns=\"http://www.w3.org/2000/svg\" height=\"24px\"viewBox=\"0 0 24 24\"\n",
              "       width=\"24px\">\n",
              "    <path d=\"M0 0h24v24H0V0z\" fill=\"none\"/>\n",
              "    <path d=\"M18.56 5.44l.94 2.06.94-2.06 2.06-.94-2.06-.94-.94-2.06-.94 2.06-2.06.94zm-11 1L8.5 8.5l.94-2.06 2.06-.94-2.06-.94L8.5 2.5l-.94 2.06-2.06.94zm10 10l.94 2.06.94-2.06 2.06-.94-2.06-.94-.94-2.06-.94 2.06-2.06.94z\"/><path d=\"M17.41 7.96l-1.37-1.37c-.4-.4-.92-.59-1.43-.59-.52 0-1.04.2-1.43.59L10.3 9.45l-7.72 7.72c-.78.78-.78 2.05 0 2.83L4 21.41c.39.39.9.59 1.41.59.51 0 1.02-.2 1.41-.59l7.78-7.78 2.81-2.81c.8-.78.8-2.07 0-2.86zM5.41 20L4 18.59l7.72-7.72 1.47 1.35L5.41 20z\"/>\n",
              "  </svg>\n",
              "      </button>\n",
              "      \n",
              "  <style>\n",
              "    .colab-df-container {\n",
              "      display:flex;\n",
              "      flex-wrap:wrap;\n",
              "      gap: 12px;\n",
              "    }\n",
              "\n",
              "    .colab-df-convert {\n",
              "      background-color: #E8F0FE;\n",
              "      border: none;\n",
              "      border-radius: 50%;\n",
              "      cursor: pointer;\n",
              "      display: none;\n",
              "      fill: #1967D2;\n",
              "      height: 32px;\n",
              "      padding: 0 0 0 0;\n",
              "      width: 32px;\n",
              "    }\n",
              "\n",
              "    .colab-df-convert:hover {\n",
              "      background-color: #E2EBFA;\n",
              "      box-shadow: 0px 1px 2px rgba(60, 64, 67, 0.3), 0px 1px 3px 1px rgba(60, 64, 67, 0.15);\n",
              "      fill: #174EA6;\n",
              "    }\n",
              "\n",
              "    [theme=dark] .colab-df-convert {\n",
              "      background-color: #3B4455;\n",
              "      fill: #D2E3FC;\n",
              "    }\n",
              "\n",
              "    [theme=dark] .colab-df-convert:hover {\n",
              "      background-color: #434B5C;\n",
              "      box-shadow: 0px 1px 3px 1px rgba(0, 0, 0, 0.15);\n",
              "      filter: drop-shadow(0px 1px 2px rgba(0, 0, 0, 0.3));\n",
              "      fill: #FFFFFF;\n",
              "    }\n",
              "  </style>\n",
              "\n",
              "      <script>\n",
              "        const buttonEl =\n",
              "          document.querySelector('#df-99105eb1-5c9d-4794-b862-9397ee8d5e2a button.colab-df-convert');\n",
              "        buttonEl.style.display =\n",
              "          google.colab.kernel.accessAllowed ? 'block' : 'none';\n",
              "\n",
              "        async function convertToInteractive(key) {\n",
              "          const element = document.querySelector('#df-99105eb1-5c9d-4794-b862-9397ee8d5e2a');\n",
              "          const dataTable =\n",
              "            await google.colab.kernel.invokeFunction('convertToInteractive',\n",
              "                                                     [key], {});\n",
              "          if (!dataTable) return;\n",
              "\n",
              "          const docLinkHtml = 'Like what you see? Visit the ' +\n",
              "            '<a target=\"_blank\" href=https://colab.research.google.com/notebooks/data_table.ipynb>data table notebook</a>'\n",
              "            + ' to learn more about interactive tables.';\n",
              "          element.innerHTML = '';\n",
              "          dataTable['output_type'] = 'display_data';\n",
              "          await google.colab.output.renderOutput(dataTable, element);\n",
              "          const docLink = document.createElement('div');\n",
              "          docLink.innerHTML = docLinkHtml;\n",
              "          element.appendChild(docLink);\n",
              "        }\n",
              "      </script>\n",
              "    </div>\n",
              "  </div>\n",
              "  "
            ]
          },
          "metadata": {},
          "execution_count": 22
        }
      ]
    },
    {
      "cell_type": "markdown",
      "source": [
        "###dealing with rows"
      ],
      "metadata": {
        "id": "d8Igg901-aJq"
      }
    },
    {
      "cell_type": "code",
      "source": [
        "#dealing wtith rows by using iloc method\n",
        "first=data.iloc[1]\n",
        "print(first)"
      ],
      "metadata": {
        "colab": {
          "base_uri": "https://localhost:8080/"
        },
        "id": "eaf1ScoN3rzD",
        "outputId": "3e5bb837-0f17-4d2c-a6d5-372aee98195c"
      },
      "execution_count": null,
      "outputs": [
        {
          "output_type": "stream",
          "name": "stdout",
          "text": [
            "longitude               -118.300\n",
            "latitude                  34.260\n",
            "housing_median_age        43.000\n",
            "total_rooms             1510.000\n",
            "total_bedrooms           310.000\n",
            "population               809.000\n",
            "households               277.000\n",
            "median_income              3.599\n",
            "median_house_value    176500.000\n",
            "Name: 1, dtype: float64\n"
          ]
        }
      ]
    },
    {
      "cell_type": "code",
      "source": [
        "#deletion of Rows by .drop method\n",
        "x=data.drop([-122.05] ,axis=0, inplace=False)\n",
        "print(x)"
      ],
      "metadata": {
        "colab": {
          "base_uri": "https://localhost:8080/"
        },
        "id": "rxKe-tfk4Aak",
        "outputId": "05abeaad-4a34-40b1-fa55-036f4f5acbd0"
      },
      "execution_count": null,
      "outputs": [
        {
          "output_type": "stream",
          "name": "stdout",
          "text": [
            "           latitude  housing_median_age  total_rooms  total_bedrooms  \\\n",
            "longitude                                                              \n",
            "-118.30       34.26                43.0       1510.0           310.0   \n",
            "-117.81       33.78                27.0       3589.0           507.0   \n",
            "-118.36       33.82                28.0         67.0            15.0   \n",
            "-119.67       36.33                19.0       1241.0           244.0   \n",
            "-119.56       36.51                37.0       1018.0           213.0   \n",
            "...             ...                 ...          ...             ...   \n",
            "-119.86       34.42                23.0       1450.0           642.0   \n",
            "-118.14       34.06                27.0       5257.0          1082.0   \n",
            "-119.70       36.30                10.0        956.0           201.0   \n",
            "-117.12       34.10                40.0         96.0            14.0   \n",
            "-119.63       34.42                42.0       1765.0           263.0   \n",
            "\n",
            "           population  households  median_income  median_house_value  \n",
            "longitude                                                             \n",
            "-118.30         809.0       277.0         3.5990            176500.0  \n",
            "-117.81        1484.0       495.0         5.7934            270500.0  \n",
            "-118.36          49.0        11.0         6.1359            330000.0  \n",
            "-119.67         850.0       237.0         2.9375             81700.0  \n",
            "-119.56         663.0       204.0         1.6635             67000.0  \n",
            "...               ...         ...            ...                 ...  \n",
            "-119.86        1258.0       607.0         1.1790            225000.0  \n",
            "-118.14        3496.0      1036.0         3.3906            237200.0  \n",
            "-119.70         693.0       220.0         2.2895             62000.0  \n",
            "-117.12          46.0        14.0         3.2708            162500.0  \n",
            "-119.63         753.0       260.0         8.5608            500001.0  \n",
            "\n",
            "[2993 rows x 8 columns]\n"
          ]
        }
      ]
    },
    {
      "cell_type": "code",
      "source": [],
      "metadata": {
        "id": "T5Do3pvsAyXT"
      },
      "execution_count": null,
      "outputs": []
    }
  ]
}